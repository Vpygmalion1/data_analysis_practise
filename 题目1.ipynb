{
 "cells": [
  {
   "cell_type": "markdown",
   "id": "2ac0ea13",
   "metadata": {},
   "source": [
    "### 题目1：数据集Retail_Data_Transactions.csv记录了客户ID，交易时间和交易金额三个字段，需求是对客户ID进行汇总统计，计算每一个客户的如下特征变量，并把结果输出为csv文件。  \n",
    "•\tLast_date: 最后一次交易时间   \n",
    "•\tRecency: 最后一次交易时间距离今天的间隔天数  \n",
    "•\tFrequnece: 累计交易次数  \n",
    "•\tAmount: 累计交易金额  \n",
    "•\tIntereval: 平均两次交易之间的间隔天数(如果客户只有一次交易字段为空值)  \n"
   ]
  },
  {
   "cell_type": "code",
   "execution_count": 1,
   "id": "00d42497",
   "metadata": {},
   "outputs": [],
   "source": [
    "import pandas as pd\n",
    "import numpy as np\n",
    "import time\n",
    "from datetime import datetime\n",
    "from tqdm import tqdm"
   ]
  },
  {
   "cell_type": "markdown",
   "id": "6ad11ece",
   "metadata": {},
   "source": [
    "# 数据预处理"
   ]
  },
  {
   "cell_type": "code",
   "execution_count": 2,
   "id": "15a9f7a8",
   "metadata": {},
   "outputs": [],
   "source": [
    "path = r'Retail_Data_Transactions.csv'"
   ]
  },
  {
   "cell_type": "code",
   "execution_count": 6,
   "id": "8601a9a8",
   "metadata": {},
   "outputs": [],
   "source": [
    "# 读取数据\n",
    "def read_data(path):\n",
    "    data = pd.read_csv(path)\n",
    "#     print(data.head)\n",
    "#     print(data.shape)\n",
    "    return data"
   ]
  },
  {
   "cell_type": "code",
   "execution_count": 4,
   "id": "69216e98",
   "metadata": {},
   "outputs": [],
   "source": [
    "# 替换英文月份\n",
    "def rep_mon(data):\n",
    "    data['trans_date'] = data['trans_date'].str.replace('Jan','01')\n",
    "    data['trans_date'] = data['trans_date'].str.replace('Feb','02')\n",
    "    data['trans_date'] = data['trans_date'].str.replace('Mar','03')\n",
    "    data['trans_date'] = data['trans_date'].str.replace('Apr','04')\n",
    "    data['trans_date'] = data['trans_date'].str.replace('May','05')\n",
    "    data['trans_date'] = data['trans_date'].str.replace('Jun','06')\n",
    "    data['trans_date'] = data['trans_date'].str.replace('Jul','07')\n",
    "    data['trans_date'] = data['trans_date'].str.replace('Aug','08')\n",
    "    data['trans_date'] = data['trans_date'].str.replace('Sep','09')\n",
    "    data['trans_date'] = data['trans_date'].str.replace('Oct','10')\n",
    "    data['trans_date'] = data['trans_date'].str.replace('Nov','11')\n",
    "    data['trans_date'] = data['trans_date'].str.replace('Dec','12')\n",
    "    return data"
   ]
  },
  {
   "cell_type": "code",
   "execution_count": 5,
   "id": "2d37b600",
   "metadata": {},
   "outputs": [],
   "source": [
    "# 转换时间格式\n",
    "def tran_date(data):\n",
    "    for i in tqdm(range(len(data))):\n",
    "        data['trans_date'][i] = datetime.strptime(data['trans_date'][i],\"%d-%m-%y\")\n",
    "    return data"
   ]
  },
  {
   "cell_type": "code",
   "execution_count": 7,
   "id": "0c4fb046",
   "metadata": {
    "scrolled": true
   },
   "outputs": [
    {
     "name": "stderr",
     "output_type": "stream",
     "text": [
      "  0%|                                                                                       | 0/125000 [00:00<?, ?it/s]<ipython-input-5-18e8878a292f>:4: SettingWithCopyWarning: \n",
      "A value is trying to be set on a copy of a slice from a DataFrame\n",
      "\n",
      "See the caveats in the documentation: https://pandas.pydata.org/pandas-docs/stable/user_guide/indexing.html#returning-a-view-versus-a-copy\n",
      "  data['trans_date'][i] = datetime.strptime(data['trans_date'][i],\"%d-%m-%y\")\n",
      "100%|████████████████████████████████████████████████████████████████████████| 125000/125000 [00:59<00:00, 2093.04it/s]\n"
     ]
    }
   ],
   "source": [
    "if __name__ == '__main__':\n",
    "    data = read_data(path)\n",
    "    data = rep_mon(data)\n",
    "    data = tran_date(data)\n",
    "    data.head()"
   ]
  },
  {
   "cell_type": "markdown",
   "id": "6f5fa816",
   "metadata": {},
   "source": [
    "# 计算特征变量\n",
    "## Last_date: 最后一次交易时间"
   ]
  },
  {
   "cell_type": "code",
   "execution_count": 230,
   "id": "e2e46b88",
   "metadata": {},
   "outputs": [],
   "source": [
    "# 根据用户id分组获取最后交易时间\n",
    "def last_date(data):\n",
    "    result_date = pd.DataFrame(data.groupby('customer_id')['trans_date'].max())\n",
    "    result_date.columns=['last_date']\n",
    "    return result_date\n",
    "result_data = last_date(data)"
   ]
  },
  {
   "cell_type": "markdown",
   "id": "9a60b254",
   "metadata": {},
   "source": [
    "## Recency: 最后一次交易时间距离今天的间隔天数"
   ]
  },
  {
   "cell_type": "code",
   "execution_count": 231,
   "id": "36148fa9",
   "metadata": {},
   "outputs": [
    {
     "name": "stderr",
     "output_type": "stream",
     "text": [
      "<ipython-input-231-b99cd627f974>:6: SettingWithCopyWarning: \n",
      "A value is trying to be set on a copy of a slice from a DataFrame\n",
      "\n",
      "See the caveats in the documentation: https://pandas.pydata.org/pandas-docs/stable/user_guide/indexing.html#returning-a-view-versus-a-copy\n",
      "  result_data['recency'][i] = (today-result_data['last_date'][i]).days\n"
     ]
    }
   ],
   "source": [
    "# 用今天的日期减去最后交易日期\n",
    "def recency(result_data):\n",
    "    today = datetime.today()\n",
    "    result_data['recency'] = [0]*len(result_data)\n",
    "    for i in range(len(result_data)):\n",
    "        result_data['recency'][i] = (today-result_data['last_date'][i]).days\n",
    "    return result_data\n",
    "result_data = recency(result_data)"
   ]
  },
  {
   "cell_type": "markdown",
   "id": "e6366f39",
   "metadata": {},
   "source": [
    "## Frequnece: 累计交易次数"
   ]
  },
  {
   "cell_type": "code",
   "execution_count": 232,
   "id": "360b506e",
   "metadata": {},
   "outputs": [],
   "source": [
    "# 根据用户id分组统计总次数，并利用id与result表连接\n",
    "def frequence(data,result):\n",
    "    fre = data.groupby('customer_id').tran_amount.count()\n",
    "    result_data = result.merge(fre,how='left',left_on='customer_id',right_on='customer_id')\n",
    "    result_data = result_data.rename(columns={'tran_amount':'frequence'})\n",
    "    return result_data\n",
    "result_data = frequence(data,result_data)"
   ]
  },
  {
   "cell_type": "markdown",
   "id": "b0210292",
   "metadata": {},
   "source": [
    "##  Amount: 累计交易金额"
   ]
  },
  {
   "cell_type": "code",
   "execution_count": 233,
   "id": "03264eea",
   "metadata": {},
   "outputs": [],
   "source": [
    "# 根据用户id分组统计累计交易金额，并利用id与result表连接\n",
    "def amount(data_,result_):\n",
    "    amo = data.groupby('customer_id').tran_amount.sum()\n",
    "    result_data = result_.merge(amo,how='left',left_on='customer_id',right_on='customer_id')\n",
    "    result_data = result_data.rename(columns={'tran_amount':'amount'})\n",
    "    return result_data\n",
    "result_data = amount(data,result_data)"
   ]
  },
  {
   "cell_type": "markdown",
   "id": "a5872af5",
   "metadata": {},
   "source": [
    "## Intereval: 平均两次交易之间的间隔天数(如果客户只有一次交易字段为空值)"
   ]
  },
  {
   "cell_type": "code",
   "execution_count": 234,
   "id": "bb5e4021",
   "metadata": {},
   "outputs": [],
   "source": [
    "# 将原始数据按照用户id分组，将用户id设置为索引\n",
    "# 计算每个用户两次交易之间的间隔天数，并计算平均值\n",
    "def inter(data__,result__):\n",
    "    data_group = data.groupby('customer_id').apply(lambda x:x[:])\n",
    "    data_group = data_group.drop(axis=1,columns='customer_id')\n",
    "    data_group = data_group.reset_index('customer_id')\n",
    "    data_group = data_group.set_index('customer_id')\n",
    "    \n",
    "    intereval=dict()\n",
    "    id_index = data_group.index.unique()\n",
    "    for i in id_index:\n",
    "        if len(data_group.loc[i])==1:\n",
    "            intereval[i]=np.nan\n",
    "        else:\n",
    "            intereval[i] = np.mean(data_group.loc[i].sort_values('trans_date')['trans_date'].diff()).days\n",
    "    intereval = pd.DataFrame(intereval,index=['intereval']).T\n",
    "    result_data = result__.merge(intereval,how='left',left_on='customer_id',right_on=intereval.index)\n",
    "    return result_data"
   ]
  },
  {
   "cell_type": "code",
   "execution_count": 235,
   "id": "0908e881",
   "metadata": {},
   "outputs": [
    {
     "data": {
      "text/html": [
       "<div>\n",
       "<style scoped>\n",
       "    .dataframe tbody tr th:only-of-type {\n",
       "        vertical-align: middle;\n",
       "    }\n",
       "\n",
       "    .dataframe tbody tr th {\n",
       "        vertical-align: top;\n",
       "    }\n",
       "\n",
       "    .dataframe thead th {\n",
       "        text-align: right;\n",
       "    }\n",
       "</style>\n",
       "<table border=\"1\" class=\"dataframe\">\n",
       "  <thead>\n",
       "    <tr style=\"text-align: right;\">\n",
       "      <th></th>\n",
       "      <th>customer_id</th>\n",
       "      <th>last_date</th>\n",
       "      <th>recency</th>\n",
       "      <th>frequence</th>\n",
       "      <th>amount</th>\n",
       "      <th>intereval</th>\n",
       "    </tr>\n",
       "  </thead>\n",
       "  <tbody>\n",
       "    <tr>\n",
       "      <th>0</th>\n",
       "      <td>CS1112</td>\n",
       "      <td>2015-01-14</td>\n",
       "      <td>2599</td>\n",
       "      <td>15</td>\n",
       "      <td>1012</td>\n",
       "      <td>93</td>\n",
       "    </tr>\n",
       "    <tr>\n",
       "      <th>1</th>\n",
       "      <td>CS1113</td>\n",
       "      <td>2015-02-09</td>\n",
       "      <td>2573</td>\n",
       "      <td>20</td>\n",
       "      <td>1490</td>\n",
       "      <td>71</td>\n",
       "    </tr>\n",
       "    <tr>\n",
       "      <th>2</th>\n",
       "      <td>CS1114</td>\n",
       "      <td>2015-02-12</td>\n",
       "      <td>2570</td>\n",
       "      <td>19</td>\n",
       "      <td>1432</td>\n",
       "      <td>72</td>\n",
       "    </tr>\n",
       "    <tr>\n",
       "      <th>3</th>\n",
       "      <td>CS1115</td>\n",
       "      <td>2015-03-05</td>\n",
       "      <td>2549</td>\n",
       "      <td>22</td>\n",
       "      <td>1659</td>\n",
       "      <td>62</td>\n",
       "    </tr>\n",
       "    <tr>\n",
       "      <th>4</th>\n",
       "      <td>CS1116</td>\n",
       "      <td>2014-08-25</td>\n",
       "      <td>2741</td>\n",
       "      <td>13</td>\n",
       "      <td>857</td>\n",
       "      <td>96</td>\n",
       "    </tr>\n",
       "  </tbody>\n",
       "</table>\n",
       "</div>"
      ],
      "text/plain": [
       "  customer_id  last_date  recency  frequence  amount  intereval\n",
       "0      CS1112 2015-01-14     2599         15    1012         93\n",
       "1      CS1113 2015-02-09     2573         20    1490         71\n",
       "2      CS1114 2015-02-12     2570         19    1432         72\n",
       "3      CS1115 2015-03-05     2549         22    1659         62\n",
       "4      CS1116 2014-08-25     2741         13     857         96"
      ]
     },
     "execution_count": 235,
     "metadata": {},
     "output_type": "execute_result"
    }
   ],
   "source": [
    "result_data = inter(data,result_data)\n",
    "result_data.head()"
   ]
  },
  {
   "cell_type": "code",
   "execution_count": 236,
   "id": "cdb22486",
   "metadata": {},
   "outputs": [],
   "source": [
    "result_data.to_csv('question1.csv',index=False)"
   ]
  },
  {
   "cell_type": "code",
   "execution_count": null,
   "id": "66b72dc2",
   "metadata": {},
   "outputs": [],
   "source": []
  }
 ],
 "metadata": {
  "kernelspec": {
   "display_name": "Python 3",
   "language": "python",
   "name": "python3"
  },
  "language_info": {
   "codemirror_mode": {
    "name": "ipython",
    "version": 3
   },
   "file_extension": ".py",
   "mimetype": "text/x-python",
   "name": "python",
   "nbconvert_exporter": "python",
   "pygments_lexer": "ipython3",
   "version": "3.8.8"
  }
 },
 "nbformat": 4,
 "nbformat_minor": 5
}
